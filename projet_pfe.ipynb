{
  "nbformat": 4,
  "nbformat_minor": 0,
  "metadata": {
    "colab": {
      "name": "projet_pfe.ipynb",
      "provenance": [],
      "collapsed_sections": [],
      "authorship_tag": "ABX9TyN2rGR3b4aSO7Vftz4PxR1g",
      "include_colab_link": true
    },
    "kernelspec": {
      "name": "python3",
      "display_name": "Python 3"
    },
    "language_info": {
      "name": "python"
    }
  },
  "cells": [
    {
      "cell_type": "markdown",
      "metadata": {
        "id": "view-in-github",
        "colab_type": "text"
      },
      "source": [
        "<a href=\"https://colab.research.google.com/github/ismail51998/BIG_DATA_CLOUD_SENTIMENT_ANALYSIS/blob/main/projet_pfe.ipynb\" target=\"_parent\"><img src=\"https://colab.research.google.com/assets/colab-badge.svg\" alt=\"Open In Colab\"/></a>"
      ]
    },
    {
      "cell_type": "code",
      "execution_count": 43,
      "metadata": {
        "colab": {
          "base_uri": "https://localhost:8080/"
        },
        "id": "l1b_L45DblaQ",
        "outputId": "1c1a747a-f051-4abe-b78f-9d16f965f62c"
      },
      "outputs": [
        {
          "output_type": "stream",
          "name": "stdout",
          "text": [
            "Requirement already satisfied: spark-nlp==3.3.4 in /usr/local/lib/python3.7/dist-packages (3.3.4)\n"
          ]
        }
      ],
      "source": [
        "pip install spark-nlp==3.3.4\n"
      ]
    },
    {
      "cell_type": "code",
      "source": [
        "import seaborn as sns\n",
        "import pandas as pd"
      ],
      "metadata": {
        "id": "yzlLsojDqHNe"
      },
      "execution_count": 44,
      "outputs": []
    },
    {
      "cell_type": "code",
      "source": [
        "!wget http://setup.johnsnowlabs.com/colab.sh -O - | bash"
      ],
      "metadata": {
        "colab": {
          "base_uri": "https://localhost:8080/"
        },
        "id": "W5Wz7im2boDo",
        "outputId": "937be18d-71bd-4b52-f8c5-5886982f28a0"
      },
      "execution_count": 2,
      "outputs": [
        {
          "output_type": "stream",
          "name": "stdout",
          "text": [
            "--2021-12-08 00:26:29--  http://setup.johnsnowlabs.com/colab.sh\n",
            "Resolving setup.johnsnowlabs.com (setup.johnsnowlabs.com)... 51.158.130.125\n",
            "Connecting to setup.johnsnowlabs.com (setup.johnsnowlabs.com)|51.158.130.125|:80... connected.\n",
            "HTTP request sent, awaiting response... 302 Found\n",
            "Location: https://setup.johnsnowlabs.com/colab.sh [following]\n",
            "--2021-12-08 00:26:29--  https://setup.johnsnowlabs.com/colab.sh\n",
            "Connecting to setup.johnsnowlabs.com (setup.johnsnowlabs.com)|51.158.130.125|:443... connected.\n",
            "HTTP request sent, awaiting response... 302 Moved Temporarily\n",
            "Location: https://raw.githubusercontent.com/JohnSnowLabs/spark-nlp/master/scripts/colab_setup.sh [following]\n",
            "--2021-12-08 00:26:30--  https://raw.githubusercontent.com/JohnSnowLabs/spark-nlp/master/scripts/colab_setup.sh\n",
            "Resolving raw.githubusercontent.com (raw.githubusercontent.com)... 185.199.109.133, 185.199.110.133, 185.199.108.133, ...\n",
            "Connecting to raw.githubusercontent.com (raw.githubusercontent.com)|185.199.109.133|:443... connected.\n",
            "HTTP request sent, awaiting response... 200 OK\n",
            "Length: 1275 (1.2K) [text/plain]\n",
            "Saving to: ‘STDOUT’\n",
            "\n",
            "-                   100%[===================>]   1.25K  --.-KB/s    in 0s      \n",
            "\n",
            "2021-12-08 00:26:31 (51.5 MB/s) - written to stdout [1275/1275]\n",
            "\n",
            "setup Colab for PySpark 3.0.3 and Spark NLP 3.3.4\n",
            "Installing PySpark 3.0.3 and Spark NLP 3.3.4\n",
            "\u001b[K     |████████████████████████████████| 209.1 MB 63 kB/s \n",
            "\u001b[K     |████████████████████████████████| 198 kB 41.3 MB/s \n",
            "\u001b[?25h  Building wheel for pyspark (setup.py) ... \u001b[?25l\u001b[?25hdone\n"
          ]
        }
      ]
    },
    {
      "cell_type": "code",
      "source": [
        "!bash colab.sh -p 3.1.2 -s 3.3.4"
      ],
      "metadata": {
        "colab": {
          "base_uri": "https://localhost:8080/"
        },
        "id": "jPyq8dahbzgF",
        "outputId": "b58f86bf-1787-4f08-b7f9-de4ae73e5b91"
      },
      "execution_count": 3,
      "outputs": [
        {
          "output_type": "stream",
          "name": "stdout",
          "text": [
            "bash: colab.sh: No such file or directory\n"
          ]
        }
      ]
    },
    {
      "cell_type": "code",
      "source": [
        "pip install SparkSession"
      ],
      "metadata": {
        "colab": {
          "base_uri": "https://localhost:8080/"
        },
        "id": "des8QZvenLl_",
        "outputId": "447da679-2ebe-45e4-c708-e90b3ed6ca06"
      },
      "execution_count": 14,
      "outputs": [
        {
          "output_type": "stream",
          "name": "stdout",
          "text": [
            "\u001b[31mERROR: Could not find a version that satisfies the requirement SparkSession (from versions: none)\u001b[0m\n",
            "\u001b[31mERROR: No matching distribution found for SparkSession\u001b[0m\n"
          ]
        }
      ]
    },
    {
      "cell_type": "code",
      "source": [
        "from google.colab import drive\n",
        "drive.mount('/content/drive')"
      ],
      "metadata": {
        "colab": {
          "base_uri": "https://localhost:8080/"
        },
        "id": "fep-yCBrnZDG",
        "outputId": "9f92d53a-fc1b-4d5b-ea95-4f5c39854787"
      },
      "execution_count": 16,
      "outputs": [
        {
          "output_type": "stream",
          "name": "stdout",
          "text": [
            "Mounted at /content/drive\n"
          ]
        }
      ]
    },
    {
      "cell_type": "code",
      "source": [
        "!unzip \"/content/drive/My Drive/AV articles/PySpark on Colab/black_friday_train.zip\"\n"
      ],
      "metadata": {
        "colab": {
          "base_uri": "https://localhost:8080/"
        },
        "id": "MliFI9CSnIE6",
        "outputId": "fb710835-f715-4d2a-95fb-c283cd08872b"
      },
      "execution_count": 17,
      "outputs": [
        {
          "output_type": "stream",
          "name": "stdout",
          "text": [
            "unzip:  cannot find or open /content/drive/My Drive/AV articles/PySpark on Colab/black_friday_train.zip, /content/drive/My Drive/AV articles/PySpark on Colab/black_friday_train.zip.zip or /content/drive/My Drive/AV articles/PySpark on Colab/black_friday_train.zip.ZIP.\n"
          ]
        }
      ]
    },
    {
      "cell_type": "code",
      "source": [
        "!apt-get install openjdk-8-jdk-headless -qq > /dev/null\n"
      ],
      "metadata": {
        "id": "l6HPhCfEnYSQ"
      },
      "execution_count": 18,
      "outputs": []
    },
    {
      "cell_type": "code",
      "source": [
        "!wget -q https://www-us.apache.org/dist/spark/spark-3.2.0-bin-hadoop3.2.tgz\n"
      ],
      "metadata": {
        "id": "zh2JsXlhnrtA"
      },
      "execution_count": 30,
      "outputs": []
    },
    {
      "cell_type": "code",
      "source": [
        "!tar xf /content/spark-3.2.0-bin-hadoop3.2.tgz"
      ],
      "metadata": {
        "colab": {
          "base_uri": "https://localhost:8080/"
        },
        "id": "ZSkfMqUdowQk",
        "outputId": "40353849-8bc4-4808-8527-0b72e314d929"
      },
      "execution_count": 31,
      "outputs": [
        {
          "output_type": "stream",
          "name": "stdout",
          "text": [
            "\n",
            "gzip: stdin: unexpected end of file\n",
            "tar: Unexpected EOF in archive\n",
            "tar: Unexpected EOF in archive\n",
            "tar: Error is not recoverable: exiting now\n"
          ]
        }
      ]
    },
    {
      "cell_type": "code",
      "source": [
        "import os\n",
        "os.environ[\"JAVA_HOME\"] = \"/usr/lib/jvm/java-8-openjdk-amd64\"\n",
        "os.environ[\"SPARK_HOME\"] = \"/content/spark-3.0.1-bin-hadoop2.7\""
      ],
      "metadata": {
        "id": "jKz_yzJZnvCj"
      },
      "execution_count": 32,
      "outputs": []
    },
    {
      "cell_type": "code",
      "source": [
        "pip install pyspark"
      ],
      "metadata": {
        "colab": {
          "base_uri": "https://localhost:8080/"
        },
        "id": "xlyvG5xfoRad",
        "outputId": "31537a6d-2c63-47e2-eb8e-e48f71a3b5dc"
      },
      "execution_count": 34,
      "outputs": [
        {
          "output_type": "stream",
          "name": "stdout",
          "text": [
            "Requirement already satisfied: pyspark in /usr/local/lib/python3.7/dist-packages (3.0.3)\n",
            "Requirement already satisfied: py4j==0.10.9 in /usr/local/lib/python3.7/dist-packages (from pyspark) (0.10.9)\n"
          ]
        }
      ]
    },
    {
      "cell_type": "code",
      "source": [
        "from pyspark.sql import SparkSession\n",
        "\n",
        "spark = SparkSession.builder\\\n",
        "        .master(\"local\")\\\n",
        "        .appName(\"Colab\")\\\n",
        "        .config('spark.ui.port', '4050')\\\n",
        "        .getOrCreate()\n"
      ],
      "metadata": {
        "id": "HryQkuLfpWeO"
      },
      "execution_count": 35,
      "outputs": []
    },
    {
      "cell_type": "code",
      "source": [
        "data = spark.read.csv('training.1600000.processed.noemoticon.csv',inferSchema=True,header=False)"
      ],
      "metadata": {
        "id": "uiTNcZVspew1"
      },
      "execution_count": 36,
      "outputs": []
    },
    {
      "cell_type": "code",
      "source": [
        "data = data.toDF('target', 'id', 'date','flag','user','text')"
      ],
      "metadata": {
        "id": "9lA-PJjvpsSZ"
      },
      "execution_count": 39,
      "outputs": []
    },
    {
      "cell_type": "code",
      "source": [
        "data = data.select(\"text\", \"target\")"
      ],
      "metadata": {
        "id": "ZssEP5ehpsWS"
      },
      "execution_count": 40,
      "outputs": []
    },
    {
      "cell_type": "code",
      "source": [
        "data.groupBy(\"target\").count().show()"
      ],
      "metadata": {
        "colab": {
          "base_uri": "https://localhost:8080/"
        },
        "id": "1ZZLXYnIpsZe",
        "outputId": "9694a726-f655-400b-a40f-1692242edb10"
      },
      "execution_count": 41,
      "outputs": [
        {
          "output_type": "stream",
          "name": "stdout",
          "text": [
            "+------+------+\n",
            "|target| count|\n",
            "+------+------+\n",
            "|     4|800000|\n",
            "|     0|800000|\n",
            "+------+------+\n",
            "\n"
          ]
        }
      ]
    },
    {
      "cell_type": "code",
      "source": [
        "data_pd=data.toPandas()"
      ],
      "metadata": {
        "id": "Ppulovm5p9DO"
      },
      "execution_count": 42,
      "outputs": []
    },
    {
      "cell_type": "code",
      "source": [
        "sns.countplot(data=data_pd,x='target')\n"
      ],
      "metadata": {
        "colab": {
          "base_uri": "https://localhost:8080/",
          "height": 297
        },
        "id": "qAsnHeEZp9HB",
        "outputId": "6d779fa7-aaa5-4ab9-a6ce-9a9c54e3af82"
      },
      "execution_count": 45,
      "outputs": [
        {
          "output_type": "execute_result",
          "data": {
            "text/plain": [
              "<matplotlib.axes._subplots.AxesSubplot at 0x7f21ecc88b10>"
            ]
          },
          "metadata": {},
          "execution_count": 45
        },
        {
          "output_type": "display_data",
          "data": {
            "image/png": "[encoded data removed]",
            "text/plain": [
              "<Figure size 432x288 with 1 Axes>"
            ]
          },
          "metadata": {
            "needs_background": "light"
          }
        }
      ]
    },
    {
      "cell_type": "code",
      "source": [
        "data"
      ],
      "metadata": {
        "colab": {
          "base_uri": "https://localhost:8080/"
        },
        "id": "5l3Ybiv1p9Lx",
        "outputId": "2836efbf-0830-410f-e92c-f3fe7a94d639"
      },
      "execution_count": 46,
      "outputs": [
        {
          "output_type": "execute_result",
          "data": {
            "text/plain": [
              "DataFrame[text: string, target: int]"
            ]
          },
          "metadata": {},
          "execution_count": 46
        }
      ]
    },
    {
      "cell_type": "code",
      "source": [
        "import sparknlp\n",
        "sparknlp.start()\n",
        "\n",
        "from sparknlp.pretrained import PretrainedPipeline"
      ],
      "metadata": {
        "id": "jVp6ab7wb4HC"
      },
      "execution_count": 4,
      "outputs": []
    },
    {
      "cell_type": "code",
      "source": [
        "import sparknlp\n",
        "sparknlp.start()\n",
        "\n",
        "from sparknlp.pretrained import PretrainedPipeline"
      ],
      "metadata": {
        "id": "vpmAQ4QNb_Ud"
      },
      "execution_count": 5,
      "outputs": []
    },
    {
      "cell_type": "code",
      "source": [
        "explain_document_pipeline = PretrainedPipeline(\"explain_document_ml\")\n",
        "annotations = explain_document_pipeline.annotate(\"We are very happy about SparkNLP\")\n",
        "print(annotations)\n"
      ],
      "metadata": {
        "colab": {
          "base_uri": "https://localhost:8080/"
        },
        "id": "nMcEDK4PcTVy",
        "outputId": "f334198b-b2b9-4385-b30f-a2e512031519"
      },
      "execution_count": 7,
      "outputs": [
        {
          "output_type": "stream",
          "name": "stdout",
          "text": [
            "explain_document_ml download started this may take some time.\n",
            "Approx size to download 9.1 MB\n",
            "[OK!]\n",
            "{'document': ['We are very happy about SparkNLP'], 'spell': ['We', 'are', 'very', 'happy', 'about', 'SparkNLP'], 'pos': ['PRP', 'VBP', 'RB', 'JJ', 'IN', 'NNP'], 'lemmas': ['We', 'be', 'very', 'happy', 'about', 'SparkNLP'], 'token': ['We', 'are', 'very', 'happy', 'about', 'SparkNLP'], 'stems': ['we', 'ar', 'veri', 'happi', 'about', 'sparknlp'], 'sentence': ['We are very happy about SparkNLP']}\n"
          ]
        }
      ]
    },
    {
      "cell_type": "code",
      "source": [
        "from sparknlp.base import *\n",
        "from sparknlp.annotator import *\n",
        "from pyspark.ml import Pipeline"
      ],
      "metadata": {
        "id": "P8exAa10cVwl"
      },
      "execution_count": 8,
      "outputs": []
    },
    {
      "cell_type": "code",
      "source": [
        "documentAssembler = DocumentAssembler() \\\n",
        "    .setInputCol(\"text\") \\\n",
        "    .setOutputCol(\"document\")\n",
        "sentenceDetector = SentenceDetector() \\\n",
        "    .setInputCols([\"document\"]) \\\n",
        "    .setOutputCol(\"Sentence\")\n",
        "\n",
        "regexTokenizer = Tokenizer() \\\n",
        "    .setInputCols([\"Sentence\"]) \\\n",
        "    .setOutputCol(\"token\")\n",
        "normalizer = Normalizer() \\\n",
        "    .setInputCols([\"token\"]) \\\n",
        "    .setOutputCol(\"normalized\")\\\n",
        "    .setLowercase(True)\\\n",
        "    .setCleanupPatterns([\"(@[A-Za-z0-9]+)\",\"http\\S+\",\"[^\\w\\d\\s]\"]) # remove punctuations (keep alphanumeric chars)\n",
        "    # if we don't set CleanupPatterns, it will only keep alphabet letters ([^A-Za-z])\n",
        "\n",
        "stopwords_cleaner = StopWordsCleaner()\\\n",
        "      .setInputCols(\"normalized\")\\\n",
        "      .setOutputCol(\"cleanTokens\")\\\n",
        "      .setCaseSensitive(False)\n",
        "lemmatizer = Lemmatizer() \\\n",
        "    .setInputCols([\"cleanTokens\"]) \\\n",
        "    .setOutputCol(\"lemma\") \\\n",
        "    .setDictionary(\"lemmas_small.txt.txt\", \"->\", \"\\t\")\n",
        "finisher = Finisher() \\\n",
        "    .setInputCols([\"lemma\"]) \\\n",
        "    .setCleanAnnotations(False)\n",
        "embeddings = Doc2VecApproach() \\\n",
        "    .setInputCols([\"lemma\"]) \\\n",
        "    .setOutputCol(\"embeddings\")"
      ],
      "metadata": {
        "id": "rn5btgeMlb8J"
      },
      "execution_count": 82,
      "outputs": []
    },
    {
      "cell_type": "code",
      "source": [
        "pipeline = Pipeline() \\\n",
        "    .setStages([\n",
        "      documentAssembler,\n",
        "      sentenceDetector,\n",
        "      regexTokenizer,\n",
        "      normalizer,\n",
        "      stopwords_cleaner,\n",
        "      lemmatizer,\n",
        "      finisher,\n",
        "      embeddings\n",
        "    ])"
      ],
      "metadata": {
        "id": "QKqq9a8hmEmn"
      },
      "execution_count": 83,
      "outputs": []
    },
    {
      "cell_type": "code",
      "source": [
        "m=pipeline.fit(data)"
      ],
      "metadata": {
        "id": "dRKIwb0dm0Yj"
      },
      "execution_count": null,
      "outputs": []
    },
    {
      "cell_type": "code",
      "source": [
        "df=m.transform(data)"
      ],
      "metadata": {
        "id": "OSSkJr5hqvcl"
      },
      "execution_count": 73,
      "outputs": []
    },
    {
      "cell_type": "code",
      "source": [
        "df.show()"
      ],
      "metadata": {
        "colab": {
          "base_uri": "https://localhost:8080/"
        },
        "id": "otJ50RLHsmvI",
        "outputId": "80ddbc73-8764-4c77-f073-26e8ba38f2ff"
      },
      "execution_count": 74,
      "outputs": [
        {
          "output_type": "stream",
          "name": "stdout",
          "text": [
            "+--------------------+------+--------------------+--------------------+--------------------+--------------------+--------------------+--------------------+--------------------+\n",
            "|                text|target|            document|            Sentence|               token|          normalized|         cleanTokens|               lemma|      finished_token|\n",
            "+--------------------+------+--------------------+--------------------+--------------------+--------------------+--------------------+--------------------+--------------------+\n",
            "|@switchfoot http:...|     0|[[document, 0, 11...|[[document, 0, 60...|[[token, 0, 10, @...|[[token, 39, 42, ...|[[token, 39, 42, ...|[[token, 39, 42, ...|[@switchfoot, htt...|\n",
            "|is upset that he ...|     0|[[document, 0, 11...|[[document, 0, 56...|[[token, 0, 1, is...|[[token, 0, 1, is...|[[token, 3, 7, up...|[[token, 3, 7, up...|[is, upset, that,...|\n",
            "|@Kenichan I dived...|     0|[[document, 0, 88...|[[document, 0, 41...|[[token, 0, 8, @K...|[[token, 10, 10, ...|[[token, 12, 16, ...|[[token, 12, 16, ...|[@Kenichan, I, di...|\n",
            "|my whole body fee...|     0|[[document, 0, 46...|[[document, 0, 45...|[[token, 0, 1, my...|[[token, 0, 1, my...|[[token, 3, 7, wh...|[[token, 3, 7, wh...|[my, whole, body,...|\n",
            "|@nationwideclass ...|     0|[[document, 0, 11...|[[document, 0, 45...|[[token, 0, 15, @...|[[token, 17, 18, ...|[[token, 30, 37, ...|[[token, 30, 37, ...|[@nationwideclass...|\n",
            "|@Kwesidei not the...|     0|[[document, 0, 28...|[[document, 0, 27...|[[token, 0, 8, @K...|[[token, 10, 12, ...|[[token, 18, 22, ...|[[token, 18, 22, ...|[@Kwesidei, not, ...|\n",
            "|         Need a hug |     0|[[document, 0, 10...|[[document, 0, 9,...|[[token, 0, 3, Ne...|[[token, 0, 3, ne...|[[token, 0, 3, ne...|[[token, 0, 3, ne...|      [Need, a, hug]|\n",
            "|@LOLTrish hey  lo...|     0|[[document, 0, 98...|[[document, 0, 31...|[[token, 0, 8, @L...|[[token, 10, 12, ...|[[token, 10, 12, ...|[[token, 10, 12, ...|[@LOLTrish, hey, ...|\n",
            "|@Tatiana_K nope t...|     0|[[document, 0, 35...|[[document, 0, 34...|[[token, 0, 9, @T...|[[token, 0, 1, _k...|[[token, 0, 1, _k...|[[token, 0, 1, _k...|[@Tatiana_K, nope...|\n",
            "|@twittera que me ...|     0|[[document, 0, 24...|[[document, 0, 23...|[[token, 0, 8, @t...|[[token, 10, 12, ...|[[token, 10, 12, ...|[[token, 10, 12, ...|[@twittera, que, ...|\n",
            "|spring break in p...|     0|[[document, 0, 42...|[[document, 0, 26...|[[token, 0, 5, sp...|[[token, 0, 5, sp...|[[token, 0, 5, sp...|[[token, 0, 5, sp...|[spring, break, i...|\n",
            "|I just re-pierced...|     0|[[document, 0, 25...|[[document, 0, 24...|[[token, 0, 0, I,...|[[token, 0, 0, i,...|[[token, 7, 15, r...|[[token, 7, 15, r...|[I, just, re-pier...|\n",
            "|@caregiving I cou...|     0|[[document, 0, 93...|[[document, 0, 39...|[[token, 0, 10, @...|[[token, 12, 12, ...|[[token, 14, 20, ...|[[token, 14, 20, ...|[@caregiving, I, ...|\n",
            "|@octolinz16 It it...|     0|[[document, 0, 76...|[[document, 0, 46...|[[token, 0, 10, @...|[[token, 12, 13, ...|[[token, 18, 23, ...|[[token, 18, 23, ...|[@octolinz16, It,...|\n",
            "|@smarrison i woul...|     0|[[document, 0, 11...|[[document, 0, 61...|[[token, 0, 9, @s...|[[token, 11, 11, ...|[[token, 13, 19, ...|[[token, 13, 19, ...|[@smarrison, i, w...|\n",
            "|@iamjazzyfizzle I...|     0|[[document, 0, 10...|[[document, 0, 50...|[[token, 0, 14, @...|[[token, 16, 16, ...|[[token, 18, 21, ...|[[token, 18, 21, ...|[@iamjazzyfizzle,...|\n",
            "|Hollis' death sce...|     0|[[document, 0, 92...|[[document, 0, 92...|[[token, 0, 5, Ho...|[[token, 0, 5, ho...|[[token, 0, 5, ho...|[[token, 0, 5, ho...|[Hollis, ', death...|\n",
            "|about to file taxes |     0|[[document, 0, 19...|[[document, 0, 18...|[[token, 0, 4, ab...|[[token, 0, 4, ab...|[[token, 9, 12, f...|[[token, 9, 12, f...|[about, to, file,...|\n",
            "|@LettyA ahh ive a...|     0|[[document, 0, 63...|[[document, 0, 63...|[[token, 0, 6, @L...|[[token, 8, 10, a...|[[token, 8, 10, a...|[[token, 8, 10, a...|[@LettyA, ahh, iv...|\n",
            "|@FakerPattyPattz ...|     0|[[document, 0, 78...|[[document, 0, 24...|[[token, 0, 15, @...|[[token, 17, 18, ...|[[token, 17, 18, ...|[[token, 17, 18, ...|[@FakerPattyPattz...|\n",
            "+--------------------+------+--------------------+--------------------+--------------------+--------------------+--------------------+--------------------+--------------------+\n",
            "only showing top 20 rows\n",
            "\n"
          ]
        }
      ]
    },
    {
      "cell_type": "code",
      "source": [
        ""
      ],
      "metadata": {
        "id": "u7vTaSFjsqTN"
      },
      "execution_count": null,
      "outputs": []
    }
  ]
}